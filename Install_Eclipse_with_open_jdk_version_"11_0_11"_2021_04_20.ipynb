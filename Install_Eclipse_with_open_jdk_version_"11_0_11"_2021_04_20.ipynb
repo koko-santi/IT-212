{
  "nbformat": 4,
  "nbformat_minor": 0,
  "metadata": {
    "colab": {
      "name": "Install Eclipse with open jdk version \"11.0.11\" 2021-04-20.ipynb",
      "private_outputs": true,
      "provenance": [],
      "authorship_tag": "ABX9TyO3h0hY/zYB7E98ScQbXJxp",
      "include_colab_link": true
    },
    "kernelspec": {
      "name": "python3",
      "display_name": "Python 3"
    },
    "language_info": {
      "name": "python"
    }
  },
  "cells": [
    {
      "cell_type": "markdown",
      "metadata": {
        "id": "view-in-github",
        "colab_type": "text"
      },
      "source": [
        "<a href=\"https://colab.research.google.com/github/nic-instruction/IT-211/blob/main/Install_Eclipse_with_open_jdk_version_%2211_0_11%22_2021_04_20.ipynb\" target=\"_parent\"><img src=\"https://colab.research.google.com/assets/colab-badge.svg\" alt=\"Open In Colab\"/></a>"
      ]
    },
    {
      "cell_type": "markdown",
      "source": [
        "# Eclipse Install\n",
        "\n",
        "Your first step will be to install eclipse, which will install with it's own version of Java.  GitHub is running openjdk version \"11.0.11\" 2021-04-20, so you want to run that on your local machine as well, this will avoid any suprises - which trust me, there can actually be an unfortunate number of between java versions.  Jupyter notebooks are on open jdk 11.0.13, which is fine for our purposes.  So, let's get Eclipse installed, and then we'll configure it to use openjdk - very important note for IT people: students will need you to perform all of these steps because they won't have admin access to their machines.  Happy to answer any questions, and help troubleshoot!\n",
        "\n",
        "1. Download Eclipse.  Go to https://www.eclipse.org/downloads/packages/ and scroll down a bit until you see 'Eclipse IDE for Java Developers'.  Click the download button for your operating system.  Eclipse is free and open source software, it will ask you if you want to donate - if you get a fancy job and make lots of money you can donate to them, for now, there is no need, even though it is a very spiffy IDE.\n",
        "\n",
        "2. Follow the 'on-screen' install instructions.  Depending on your security settings you may need to tell your computer that it is okay to open an application downloaded from the internet.  As long as you are downloading eclipse from this site, it is okay, I would not just google eclipse download and install it, though.\n",
        "\n",
        "   a) https://openjdk-sources.osci.io/openjdk11/openjdk-11.0.11-ga.tar.xz\n",
        "   b) "
      ],
      "metadata": {
        "id": "326cUL4LP1Il"
      }
    }
  ]
}