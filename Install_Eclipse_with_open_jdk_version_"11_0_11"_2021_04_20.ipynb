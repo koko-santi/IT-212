{
  "nbformat": 4,
  "nbformat_minor": 0,
  "metadata": {
    "colab": {
      "name": "Install Eclipse with open jdk version \"11.0.11\" 2021-04-20.ipynb",
      "private_outputs": true,
      "provenance": [],
      "authorship_tag": "ABX9TyM43hj6bYvp3dUFGgJPCuD+",
      "include_colab_link": true
    },
    "kernelspec": {
      "name": "python3",
      "display_name": "Python 3"
    },
    "language_info": {
      "name": "python"
    }
  },
  "cells": [
    {
      "cell_type": "markdown",
      "metadata": {
        "id": "view-in-github",
        "colab_type": "text"
      },
      "source": [
        "<a href=\"https://colab.research.google.com/github/nic-instruction/IT-211/blob/main/Install_Eclipse_with_open_jdk_version_%2211_0_11%22_2021_04_20.ipynb\" target=\"_parent\"><img src=\"https://colab.research.google.com/assets/colab-badge.svg\" alt=\"Open In Colab\"/></a>"
      ]
    },
    {
      "cell_type": "markdown",
      "source": [
        "# Eclipse Install\n",
        "\n",
        "Your first step will be to install eclipse, which will install with it's own version of Java.  GitHub is running openjdk version \"11.0.11\" 2021-04-20, so you want to run that on your local machine as well or as close to that as we can get, which it turns out is going to be openjdk version 11.0.13, this will avoid any suprises - which trust me, there can actually be an unfortunate number of between java versions.  Jupyter notebooks is on open jdk 11.0.13 as well.  You can check this by makeing a new codeblock and executing `!java --verion`.  So, let's get Eclipse installed, and then we'll install openjdk and configure Eclipse it to use openjdk - very important note for IT people: students will need you to perform all of these steps because they won't have admin access to their machines.  Happy to answer any questions, and help troubleshoot!\n",
        "\n",
        "1. Download Eclipse.  Go to https://www.eclipse.org/downloads/packages/ and scroll down a bit until you see 'Eclipse IDE for Java Developers'.  Click the download button for your operating system.  Eclipse is free and open source software, it will ask you if you want to donate - if you get a fancy job and make lots of money you can donate to them, for now, there is no need, even though it is a very spiffy IDE.\n",
        "\n",
        "2. Follow the 'on-screen' install instructions.  Depending on your security settings you may need to tell your computer that it is okay to open an application downloaded from the internet.  As long as you are downloading eclipse from this site, it is okay, I would not just google eclipse download and install it, though.\n",
        "\n",
        "3. Once it is installed, launch the application (and say that it's okay to launch it even though it is downloaded from the internet, note that on windows or mac you might have to alter security settings to open things downloaded from the internet (not up on this sort of thing - I altered my settings to my liking a long time ago) but we can definately start a slack channel on it!\n",
        "\n",
        "4. The first time you launch it will ask where you want your default workspace to be, this is just asking where on the filesystem your code will be saved, the default is fine, unless there's somewhere else you would like to put your code. If you don't want to be asked this every time, check the box that says 'don't ask again'\n",
        "\n",
        "5. Congratulation!!  You now have eclipse up an running.  It will have installed with Java 17 which we don't want to use for a lot of reasons, one of them is that the code you dev on java 17 probobly won't work on java 11! So read on for how to install java 11 and configure it in Eclipse.\n",
        "\n",
        "# Installing Java 11\n",
        "\n",
        "1. Go to https://adoptium.net/?variant=openjdk11&jvmVariant=hotspot and download openjdk 11 for your operating system.  If you would like to know more about why everyone is using Java 11 even though we're up to Java 17 (you'll also note that a lot of folks in industry are still using Java 8) dig into Oracle's licensing after Java 11.  adoptium.net is a project of Eclipse.  Here is their project page: https://projects.eclipse.org/projects/adoptium.  Note the number of really big industry folks contributing to this.  Oracle's licensing decisions impacted a lot of people, and caused the product they were trying to make money off of to actually fork and take on a life of it's own.  Their decision backfired - an important thing to note.  (There was a supreme court ruling on whether or not they could pattent the Java APIs last year - Google vs. Oracle - the ruling was that they could not)\n",
        "\n",
        "2.\n",
        "\n",
        "\n",
        "\n",
        "   a) https://openjdk-sources.osci.io/openjdk11/openjdk-11.0.11-ga.tar.xz\n",
        "   b) "
      ],
      "metadata": {
        "id": "326cUL4LP1Il"
      }
    }
  ]
}