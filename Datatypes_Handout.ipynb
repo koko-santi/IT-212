{
  "nbformat": 4,
  "nbformat_minor": 0,
  "metadata": {
    "colab": {
      "name": "Datatypes Handout.ipynb",
      "private_outputs": true,
      "provenance": [],
      "authorship_tag": "ABX9TyOTb7xvqdEZVfn5aUgEXNL1",
      "include_colab_link": true
    },
    "kernelspec": {
      "name": "python3",
      "display_name": "Python 3"
    },
    "language_info": {
      "name": "python"
    }
  },
  "cells": [
    {
      "cell_type": "markdown",
      "metadata": {
        "id": "view-in-github",
        "colab_type": "text"
      },
      "source": [
        "<a href=\"https://colab.research.google.com/github/nic-instruction/IT-211/blob/main/Datatypes_Handout.ipynb\" target=\"_parent\"><img src=\"https://colab.research.google.com/assets/colab-badge.svg\" alt=\"Open In Colab\"/></a>"
      ]
    },
    {
      "cell_type": "markdown",
      "source": [
        "# Java Datatypes\n",
        "\n",
        "Java has primitive and reference (or non-primitive) datatypes.  w3schools has a great breakdown of these.  A lot of this info comes from there, it's just presented here in a way you can interact with it.  Here's a link: https://www.w3schools.com/java/java_data_types.asp\n",
        "\n",
        "Also, the above link is great for reference.  Note that it can really eat up memory in some browsers if you leave the tab open for long periods of time.\n",
        "\n",
        "\n",
        "## Primitive Data Types\n",
        "\n",
        "Data Type\t| Size\t| Description\n",
        "----------|-------|------------\n",
        "byte\t| 1 byte\t| Stores whole numbers from -128 to 127\n",
        "short\t| 2 bytes\t| Stores whole numbers from -32,768 to 32,767\n",
        "int\t| 4 bytes |\tStores whole numbers from -2,147,483,648 to 2,147,483,647\n",
        "long\t| 8 bytes |\tStores whole numbers from -9,223,372,036,854,775,808 to 9,223,372,036,854,775,807\n",
        "float\t| 4 bytes\t| Stores fractional numbers. Sufficient for storing 6 to 7 decimal | digits\n",
        "double\t| 8 bytes\t| Stores fractional numbers. Sufficient for storing 15 decimal digits\n",
        "boolean\t| 1 bit\t| Stores true or false values\n",
        "char\t| 2 bytes\t| Stores a single character/letter or ASCII values"
      ],
      "metadata": {
        "id": "P1gIAvCrx0zT"
      }
    },
    {
      "cell_type": "code",
      "source": [
        "%%writefile Hello.java\n",
        "public class Hello {\n",
        "    public static void main (String[] args) {\n",
        "        byte myByte = 100;\n",
        "        short myShort = 5000;\n",
        "        int myInt = 100000;\n",
        "        long myLong = 15000000000L;   // Note you must have the L at the end.\n",
        "        float myFloat = 5.75f;        // Note you must have the f at the end which is probobly why people use doubles instead of floats because it is a pain\n",
        "        double myDouble = 66.01;      // note that you can put a d at the end of a double but it's optional\n",
        "        boolean isJavaFun = true;     // boolean is used to indicate \"true\" or \"false\" and is incredibly useful\n",
        "        char myGrade = 'A';           // char holds a single character, and its value must be assigned in single quotes.\n",
        "        char asciiChar = 128;          // note that if you assign a number to char it will print the ascii value of that number which is cool!\n",
        "                                      // you can use char in this way to make it print emojis and hearts and smily faces! (note that you'll have to use unicode, but we'll do this later in the quarter)\n",
        "        \n",
        "\n",
        "        // non primitive data types\n",
        "\n",
        "        // Non-primitive datatypes are objects and have methods.  They are upper-case, primitive datatypes are lower case.  primitive datatypes can be null, non-primitives cannot.\n",
        "        // Converting between datatypes is called type casting and here's more info on that: https://www.w3schools.com/java/java_type_casting.asp we'll be doing it in more depth later in the quarter.\n",
        "\n",
        "        String greeting = \"Hello World\";  // a string is made up of a bunch of characters and has methods you can use.  When you declare a string you must use double quotes.\n",
        "\n",
        "\n",
        "        System.out.println (asciiChar);\n",
        "    }\n",
        "}"
      ],
      "metadata": {
        "id": "zXJIYJpX0pY-"
      },
      "execution_count": null,
      "outputs": []
    },
    {
      "cell_type": "code",
      "source": [
        "!javac Hello.java\n",
        "!java Hello"
      ],
      "metadata": {
        "id": "J6jxXSt401nX"
      },
      "execution_count": null,
      "outputs": []
    }
  ]
}