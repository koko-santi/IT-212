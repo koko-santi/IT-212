{
  "nbformat": 4,
  "nbformat_minor": 0,
  "metadata": {
    "colab": {
      "name": "Input And Output.ipynb",
      "private_outputs": true,
      "provenance": [],
      "authorship_tag": "ABX9TyPUlC72MPJl5BPu3CfpAhwc",
      "include_colab_link": true
    },
    "kernelspec": {
      "name": "python3",
      "display_name": "Python 3"
    },
    "language_info": {
      "name": "python"
    }
  },
  "cells": [
    {
      "cell_type": "markdown",
      "metadata": {
        "id": "view-in-github",
        "colab_type": "text"
      },
      "source": [
        "<a href=\"https://colab.research.google.com/github/nic-instruction/IT-211/blob/main/Input_And_Output.ipynb\" target=\"_parent\"><img src=\"https://colab.research.google.com/assets/colab-badge.svg\" alt=\"Open In Colab\"/></a>"
      ]
    },
    {
      "cell_type": "markdown",
      "source": [
        "# Input, Output, and Importing Other Classes\n",
        "\n"
      ],
      "metadata": {
        "id": "qAGjwTA2OXaK"
      }
    },
    {
      "cell_type": "code",
      "execution_count": null,
      "metadata": {
        "id": "vJNPLyZgOTZ2"
      },
      "outputs": [],
      "source": [
        "%%writefile Echo.java\n",
        "import java.util.Scanner;  // We have to import the scanner class \n",
        "\n",
        "public class Echo {\n",
        "\n",
        "    public static void main(String[] args) {\n",
        "        String machineName = \"HappyBot\"; // You can change this to be whatever you want!\n",
        "        String line;\n",
        "        Scanner in = new Scanner(System.in);\n",
        "\n",
        "        System.out.print(\"What is your name? \");\n",
        "        line = in.nextLine();\n",
        "        System.out.println(\"Hello \" + line + \" nice to meet you! My name is \" + machineName);\n",
        "\n",
        "        System.out.print(\"What can I do for you today? \" );\n",
        "        line = in.nextLine();\n",
        "        System.out.println(\"Okay, I will try to \" + line + \" but I may need you to build that functionality!\");\n",
        "    }\n",
        "}"
      ]
    },
    {
      "cell_type": "code",
      "source": [
        "!javac Echo.java\n",
        "!java Echo"
      ],
      "metadata": {
        "id": "N0cJlReoPB5q"
      },
      "execution_count": null,
      "outputs": []
    },
    {
      "cell_type": "code",
      "source": [
        ""
      ],
      "metadata": {
        "id": "ByfauPbgPYr5"
      },
      "execution_count": null,
      "outputs": []
    },
    {
      "cell_type": "markdown",
      "source": [
        "# Lab 1\n",
        "\n",
        "What error do we get if the scanner class isn't imported and we try to run the code?  Try it above and record the error."
      ],
      "metadata": {
        "id": "bxX_NKI0SacA"
      }
    }
  ]
}